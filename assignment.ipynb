{
 "cells": [
  {
   "cell_type": "code",
   "execution_count": 44,
   "metadata": {},
   "outputs": [
    {
     "name": "stderr",
     "output_type": "stream",
     "text": [
      "[nltk_data] Downloading package punkt to\n",
      "[nltk_data]     /Users/niccolosottile/nltk_data...\n",
      "[nltk_data]   Package punkt is already up-to-date!\n",
      "[nltk_data] Downloading package stopwords to\n",
      "[nltk_data]     /Users/niccolosottile/nltk_data...\n",
      "[nltk_data]   Package stopwords is already up-to-date!\n",
      "[nltk_data] Downloading package wordnet to\n",
      "[nltk_data]     /Users/niccolosottile/nltk_data...\n",
      "[nltk_data]   Package wordnet is already up-to-date!\n",
      "[nltk_data] Downloading package averaged_perceptron_tagger to\n",
      "[nltk_data]     /Users/niccolosottile/nltk_data...\n",
      "[nltk_data]   Package averaged_perceptron_tagger is already up-to-\n",
      "[nltk_data]       date!\n"
     ]
    },
    {
     "data": {
      "text/plain": [
       "True"
      ]
     },
     "execution_count": 44,
     "metadata": {},
     "output_type": "execute_result"
    }
   ],
   "source": [
    "import os\n",
    "import nltk\n",
    "from nltk import word_tokenize\n",
    "from nltk.corpus import stopwords\n",
    "from nltk.corpus import wordnet\n",
    "from nltk.stem.lancaster import LancasterStemmer\n",
    "from nltk.stem import WordNetLemmatizer\n",
    "from nltk.util import ngrams\n",
    "from bs4 import BeautifulSoup # used for HTML parsing\n",
    "import string\n",
    "\n",
    "nltk.download('punkt')\n",
    "nltk.download('stopwords')\n",
    "nltk.download('wordnet')\n",
    "nltk.download('averaged_perceptron_tagger')"
   ]
  },
  {
   "cell_type": "code",
   "execution_count": 45,
   "metadata": {},
   "outputs": [],
   "source": [
    "def read_reviews(folder_path):\n",
    "    \"\"\"Reads the reviews in the folder path, storing label (derived from star rating) and content in a dictionary.\"\"\"\n",
    "    reviews = {}\n",
    "\n",
    "    # Retrieve all review files in directory\n",
    "    for filename in os.listdir(folder_path):\n",
    "        file_path = os.path.join(folder_path, filename)\n",
    "\n",
    "        # Verify file path is valid before reading\n",
    "        if os.path.isfile(file_path):\n",
    "            with open(file_path, 'r', encoding='utf-8') as file:\n",
    "                content = file.read()\n",
    "\n",
    "                # Extract star rating from filename (id_star.txt format)\n",
    "                star_rating = int(filename.split('_')[-1].split('.')[0])\n",
    "                # Assign labels given extracted star rating\n",
    "                label = 1 if star_rating >= 7 else 0\n",
    "\n",
    "                # Assign each review a dictionary of label and content\n",
    "                reviews[filename] = {'content': content, 'label': label}\n",
    "\n",
    "    return reviews\n",
    "\n",
    "# Read positive and negative reviews\n",
    "pos_reviews = read_reviews('../data/pos') \n",
    "neg_reviews = read_reviews('../data/neg') \n",
    "\n",
    "# Merge them in single dictionary\n",
    "all_reviews = {}\n",
    "all_reviews.update(pos_reviews)\n",
    "all_reviews.update(neg_reviews)"
   ]
  },
  {
   "cell_type": "code",
   "execution_count": 46,
   "metadata": {},
   "outputs": [],
   "source": [
    "def get_wordnet_pos(treebank_tag):\n",
    "    \"\"\"Converts the POS naming scheme from the Penn Treebank tag to a WordNet tag.\"\"\"\n",
    "    if treebank_tag.startswith('J'):\n",
    "        return wordnet.ADJ\n",
    "    elif treebank_tag.startswith('V'):\n",
    "        return wordnet.VERB\n",
    "    elif treebank_tag.startswith('N'):\n",
    "        return wordnet.NOUN\n",
    "    elif treebank_tag.startswith('R'):\n",
    "        return wordnet.ADV\n",
    "    else:\n",
    "        return wordnet.NOUN\n",
    "\n",
    "stoplist = set(stopwords.words('english'))\n",
    "\n",
    "def verify_stopwords_punctuation(token, a_stopwords, a_punctuation):\n",
    "    \"\"\"Verifies whether a token is a stopword or part of punctuation given filtering criteria.\"\"\"\n",
    "    return (not a_stopwords or not token in stoplist) and (not a_punctuation or not token in string.punctuation)\n",
    "\n",
    "def preprocess_reviews(contents, a_stopwords = False, a_punctuation = False, a_stemming = False, a_lemmatization = False):\n",
    "    \"\"\"Applies tokenization, n-gram generation, and further preprocessing based on supplied criteria.\"\"\"\n",
    "    # Initialisation\n",
    "    stemmer = LancasterStemmer()\n",
    "    lemmatizer = WordNetLemmatizer()\n",
    "    n_gram_size = 2 # not in parameters as not part of feature selection\n",
    "    \n",
    "    preprocessed_contents = []\n",
    "\n",
    "    for content in contents:\n",
    "        # Remove HTML tags (e.g. <br></br>)\n",
    "        soup = BeautifulSoup(content, \"html.parser\")\n",
    "        content = soup.get_text()\n",
    "\n",
    "        # Apply tokenization\n",
    "        tokens = nltk.word_tokenize(content)\n",
    "\n",
    "        # Apply preprocessing based on criteria supplied\n",
    "        if a_stemming:\n",
    "            preprocessed_tokens = [stemmer.stem(token.lower()) for token in tokens if verify_stopwords_punctuation(token, a_stopwords, a_punctuation)]\n",
    "        elif a_lemmatization:\n",
    "            pos_tags = nltk.pos_tag(tokens)\n",
    "            preprocessed_tokens = [lemmatizer.lemmatize(token, get_wordnet_pos(pos)).lower() for token, pos in pos_tags if verify_stopwords_punctuation(token, a_stopwords, a_punctuation)]\n",
    "        else:\n",
    "            preprocessed_tokens = [token.lower() for token in tokens if verify_stopwords_punctuation(token, a_stopwords, a_punctuation)]\n",
    "\n",
    "        # Generate n-grams (treating them as units due to _)\n",
    "        n_grams = list(ngrams(preprocessed_tokens, n_gram_size))\n",
    "        preprocessed_n_grams = ['_'.join(n_gram) for n_gram in n_grams]\n",
    "\n",
    "        preprocessed_contents.append(' '.join(preprocessed_n_grams))\n",
    "    \n",
    "    return preprocessed_contents \n",
    "\n",
    "def generate_features(contents, params):\n",
    "    \"\"\"Generates a set of features using preprocessing and TF-IDF (or BoW if implemented).\"\"\"\n",
    "    a_tfidf = params[-1]\n",
    "\n",
    "    # Space to implement BoW\n",
    "    if not a_tfidf:\n",
    "        print(\"Error: BoW hasn't been implemented yet.\")\n",
    "\n",
    "    preprocessed_contents = preprocess_reviews(contents, *params[:-1])\n",
    "    sparse_vector = preprocessed_contents # implement TF-IDF here\n",
    "\n",
    "    return sparse_vector"
   ]
  },
  {
   "cell_type": "code",
   "execution_count": 47,
   "metadata": {},
   "outputs": [
    {
     "name": "stderr",
     "output_type": "stream",
     "text": [
      "/var/folders/7m/dtckpk6x61b2xlv7f9bzd5nh0000gn/T/ipykernel_32046/3571024384.py:31: MarkupResemblesLocatorWarning: The input looks more like a filename than markup. You may want to open this file and pass the filehandle into Beautiful Soup.\n",
      "  soup = BeautifulSoup(content, \"html.parser\")\n"
     ]
    }
   ],
   "source": [
    "# Separate content and label\n",
    "contents = [review['content'] for review in all_reviews.values()]\n",
    "labels = [review['label'] for review in all_reviews.values()]\n",
    "\n",
    "# Generate 3 sets of features \n",
    "all_params = []\n",
    "all_params.append([True, False, False, True, True]) # 1: stopwords, lemmatization, TFIDF\n",
    "all_params.append([True, False, True, False, True]) # 2: stopwords, stemming, TFIDF\n",
    "all_params.append([True, True, False, True, True]) # 4: stopwords, punctuation, lemmatization, TFIDF\n",
    "# Further optimisations: remove HTML content? (done currently) implement BoW instead of TFIDF?\n",
    "\n",
    "sets = []\n",
    "\n",
    "# Preprocess reviews for each feature set\n",
    "for params in all_params:\n",
    "    generated_features = generate_features(contents, params)\n",
    "    # Recombine the features with their corresponding labels\n",
    "    labeled_features = list(zip(generated_features, labels))\n",
    "    sets.append(labeled_features)"
   ]
  },
  {
   "cell_type": "code",
   "execution_count": 53,
   "metadata": {},
   "outputs": [
    {
     "name": "stdout",
     "output_type": "stream",
     "text": [
      "4000 reviews in total\n",
      "28 features in total\n",
      "('a_solid solid_unremarkable unremarkable_film film_matthau matthau_einstein einstein_wonderful wonderful_my my_favorite favorite_part part_thing thing_would would_make make_go go_way way_see see_wonderful wonderful_scene scene_physicist physicist_play play_badmitton badmitton_i i_love love_sweater sweater_conversation conversation_wait wait_robbins robbins_retrieve retrieve_birdie', 1)\n"
     ]
    }
   ],
   "source": [
    "# Print a specific review for set 3\n",
    "print(f\"{len(sets[2])} reviews in total\")\n",
    "print(f\"{len(sets[2][2][0].split(' '))} features in total\")\n",
    "print(sets[2][2])"
   ]
  },
  {
   "cell_type": "code",
   "execution_count": null,
   "metadata": {},
   "outputs": [],
   "source": []
  }
 ],
 "metadata": {
  "interpreter": {
   "hash": "46abff27e78d9f02caa1fe740b8268973b81923f0dc90df308f158af5dbc826d"
  },
  "kernelspec": {
   "display_name": "Python 3.11.5 ('base')",
   "language": "python",
   "name": "python3"
  },
  "language_info": {
   "codemirror_mode": {
    "name": "ipython",
    "version": 3
   },
   "file_extension": ".py",
   "mimetype": "text/x-python",
   "name": "python",
   "nbconvert_exporter": "python",
   "pygments_lexer": "ipython3",
   "version": "3.11.5"
  },
  "orig_nbformat": 4
 },
 "nbformat": 4,
 "nbformat_minor": 2
}
